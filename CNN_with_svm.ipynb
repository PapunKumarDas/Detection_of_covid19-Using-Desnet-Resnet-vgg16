{
 "cells": [
  {
   "cell_type": "code",
   "execution_count": 1,
   "metadata": {},
   "outputs": [],
   "source": [
    "from tensorflow.compat.v1 import ConfigProto\n",
    "from tensorflow.compat.v1 import InteractiveSession\n",
    "\n",
    "config = ConfigProto()\n",
    "config.gpu_options.per_process_gpu_memory_fraction = 0.7\n",
    "config.gpu_options.allow_growth = True\n",
    "session = InteractiveSession(config=config) "
   ]
  },
  {
   "cell_type": "code",
   "execution_count": 2,
   "metadata": {},
   "outputs": [],
   "source": [
    "# Convolutional Neural Network\n",
    "\n",
    "# Importing the libraries\n",
    "import tensorflow as tf\n",
    "from tensorflow.keras.preprocessing.image import ImageDataGenerator"
   ]
  },
  {
   "cell_type": "code",
   "execution_count": 3,
   "metadata": {},
   "outputs": [],
   "source": [
    "# import numpy as np\n",
    "\n",
    "# data=np.load('data.npy')\n",
    "# target=np.load('target.npy')\n",
    "# from sklearn.model_selection import train_test_split\n",
    "\n",
    "# train_datagen,test_datagen,training_set,test_set=train_test_split(data,target,test_size=0.2)\n"
   ]
  },
  {
   "cell_type": "code",
   "execution_count": 3,
   "metadata": {},
   "outputs": [],
   "source": [
    "# Part 1 - Data Preprocessing\n",
    "\n",
    "# Preprocessing the Training set\n",
    "train_datagen = ImageDataGenerator(rescale = 1./255,shear_range = 0.2,zoom_range = 0.2,horizontal_flip = True)"
   ]
  },
  {
   "cell_type": "code",
   "execution_count": 4,
   "metadata": {},
   "outputs": [
    {
     "name": "stdout",
     "output_type": "stream",
     "text": [
      "Found 10356 images belonging to 2 classes.\n",
      "Found 3452 images belonging to 2 classes.\n"
     ]
    }
   ],
   "source": [
    "training_set = train_datagen.flow_from_directory('Dataset/train',\n",
    "                                                 target_size = (64, 64),\n",
    "                                                 batch_size = 32,\n",
    "                                                 class_mode = 'binary')\n",
    "\n",
    "# Preprocessing the Test set\n",
    "test_datagen = ImageDataGenerator(rescale = 1./255)\n",
    "test_set = test_datagen.flow_from_directory('Dataset/test',\n",
    "                                            target_size = (64, 64),\n",
    "                                            batch_size = 32,\n",
    "                                            class_mode = 'binary')"
   ]
  },
  {
   "cell_type": "code",
   "execution_count": 5,
   "metadata": {},
   "outputs": [],
   "source": [
    "from tensorflow.keras.layers import Conv2D\n",
    "from tensorflow.keras.layers import Dense\n",
    "from tensorflow.keras.regularizers import l2"
   ]
  },
  {
   "cell_type": "code",
   "execution_count": 6,
   "metadata": {},
   "outputs": [],
   "source": [
    "cnn = tf.keras.models.Sequential()\n",
    "\n",
    "# Step 1 - Convolution\n",
    "cnn.add(tf.keras.layers.Conv2D(filters=32,padding=\"same\",kernel_size=3, activation='relu', strides=2, input_shape=[64, 64, 3]))\n",
    "\n",
    "# Step 2 - Pooling\n",
    "cnn.add(tf.keras.layers.MaxPool2D(pool_size=2, strides=2))\n",
    "\n",
    "# Adding a second convolutional layer and pooling layer\n",
    "cnn.add(tf.keras.layers.Conv2D(filters=32,padding='same',kernel_size=3, activation='relu'))\n",
    "cnn.add(tf.keras.layers.MaxPool2D(pool_size=2, strides=2))\n",
    "\n",
    "# Adding a third convolutional layer and pooling layer\n",
    "cnn.add(tf.keras.layers.Conv2D(filters=32,padding='same',kernel_size=3, activation='relu'))\n",
    "cnn.add(tf.keras.layers.MaxPool2D(pool_size=2, strides=2))\n",
    "\n",
    "# Adding a 4th convolutional layer and pooling layer\n",
    "cnn.add(tf.keras.layers.Conv2D(filters=32,padding='same',kernel_size=3, activation='relu'))\n",
    "cnn.add(tf.keras.layers.MaxPool2D(pool_size=2, strides=2))\n",
    "\n",
    "# Step 3 - Flattening\n",
    "cnn.add(tf.keras.layers.Flatten())\n",
    "\n",
    "# Step 4 - Full Connection\n",
    "cnn.add(tf.keras.layers.Dense(units=128, activation='relu'))\n",
    "\n",
    "# Step 5 - Output Layer\n",
    "#cnn.add(tf.keras.layers.Dense(units=1, activation='sigmoid'))\n",
    "\n",
    "## For Binary Classification\n",
    "cnn.add(Dense(1, kernel_regularizer=tf.keras.regularizers.l2(0.01),activation='linear'))"
   ]
  },
  {
   "cell_type": "code",
   "execution_count": 7,
   "metadata": {},
   "outputs": [],
   "source": [
    "## for mulitclassification\n",
    "cnn.add(Dense(4, kernel_regularizer=tf.keras.regularizers.l2(0.01),activation='softmax'))\n",
    "cnn.compile(optimizer = 'adam', loss = 'squared_hinge')"
   ]
  },
  {
   "cell_type": "code",
   "execution_count": 8,
   "metadata": {},
   "outputs": [
    {
     "name": "stdout",
     "output_type": "stream",
     "text": [
      "Model: \"sequential\"\n",
      "_________________________________________________________________\n",
      "Layer (type)                 Output Shape              Param #   \n",
      "=================================================================\n",
      "conv2d (Conv2D)              (None, 32, 32, 32)        896       \n",
      "_________________________________________________________________\n",
      "max_pooling2d (MaxPooling2D) (None, 16, 16, 32)        0         \n",
      "_________________________________________________________________\n",
      "conv2d_1 (Conv2D)            (None, 16, 16, 32)        9248      \n",
      "_________________________________________________________________\n",
      "max_pooling2d_1 (MaxPooling2 (None, 8, 8, 32)          0         \n",
      "_________________________________________________________________\n",
      "conv2d_2 (Conv2D)            (None, 8, 8, 32)          9248      \n",
      "_________________________________________________________________\n",
      "max_pooling2d_2 (MaxPooling2 (None, 4, 4, 32)          0         \n",
      "_________________________________________________________________\n",
      "conv2d_3 (Conv2D)            (None, 4, 4, 32)          9248      \n",
      "_________________________________________________________________\n",
      "max_pooling2d_3 (MaxPooling2 (None, 2, 2, 32)          0         \n",
      "_________________________________________________________________\n",
      "flatten (Flatten)            (None, 128)               0         \n",
      "_________________________________________________________________\n",
      "dense (Dense)                (None, 128)               16512     \n",
      "_________________________________________________________________\n",
      "dense_1 (Dense)              (None, 1)                 129       \n",
      "_________________________________________________________________\n",
      "dense_2 (Dense)              (None, 4)                 8         \n",
      "=================================================================\n",
      "Total params: 45,289\n",
      "Trainable params: 45,289\n",
      "Non-trainable params: 0\n",
      "_________________________________________________________________\n"
     ]
    }
   ],
   "source": [
    "cnn.summary()"
   ]
  },
  {
   "cell_type": "code",
   "execution_count": 17,
   "metadata": {},
   "outputs": [
    {
     "name": "stdout",
     "output_type": "stream",
     "text": [
      "Epoch 1/30\n",
      "324/324 [==============================] - 50s 154ms/step - loss: 0.0676 - accuracy: 0.9744 - val_loss: 0.1696 - val_accuracy: 0.9444\n",
      "Epoch 2/30\n",
      "324/324 [==============================] - 50s 155ms/step - loss: 0.0664 - accuracy: 0.9777 - val_loss: 0.1661 - val_accuracy: 0.9447\n",
      "Epoch 3/30\n",
      "324/324 [==============================] - 50s 154ms/step - loss: 0.0666 - accuracy: 0.9761 - val_loss: 0.1544 - val_accuracy: 0.9522\n",
      "Epoch 4/30\n",
      "324/324 [==============================] - 49s 150ms/step - loss: 0.0653 - accuracy: 0.9750 - val_loss: 0.2470 - val_accuracy: 0.9253\n",
      "Epoch 5/30\n",
      "324/324 [==============================] - 49s 151ms/step - loss: 0.0639 - accuracy: 0.9758 - val_loss: 0.1760 - val_accuracy: 0.9450\n",
      "Epoch 6/30\n",
      "324/324 [==============================] - 49s 152ms/step - loss: 0.0639 - accuracy: 0.9778 - val_loss: 0.1551 - val_accuracy: 0.9516\n",
      "Epoch 7/30\n",
      "324/324 [==============================] - 48s 149ms/step - loss: 0.0654 - accuracy: 0.9759 - val_loss: 0.2244 - val_accuracy: 0.9328\n",
      "Epoch 8/30\n",
      "324/324 [==============================] - 50s 153ms/step - loss: 0.0678 - accuracy: 0.9745 - val_loss: 0.1531 - val_accuracy: 0.9470\n",
      "Epoch 9/30\n",
      "324/324 [==============================] - 50s 154ms/step - loss: 0.0663 - accuracy: 0.9763 - val_loss: 0.2150 - val_accuracy: 0.9331\n",
      "Epoch 10/30\n",
      "324/324 [==============================] - 50s 153ms/step - loss: 0.0619 - accuracy: 0.9784 - val_loss: 0.1501 - val_accuracy: 0.9531\n",
      "Epoch 11/30\n",
      "324/324 [==============================] - 49s 151ms/step - loss: 0.0617 - accuracy: 0.9777 - val_loss: 0.1687 - val_accuracy: 0.9467\n",
      "Epoch 12/30\n",
      "324/324 [==============================] - 48s 149ms/step - loss: 0.0648 - accuracy: 0.9758 - val_loss: 0.3505 - val_accuracy: 0.9035\n",
      "Epoch 13/30\n",
      "324/324 [==============================] - 48s 149ms/step - loss: 0.0630 - accuracy: 0.9774 - val_loss: 0.1404 - val_accuracy: 0.9592\n",
      "Epoch 14/30\n",
      "324/324 [==============================] - 49s 153ms/step - loss: 0.0651 - accuracy: 0.9772 - val_loss: 0.1591 - val_accuracy: 0.9493\n",
      "Epoch 15/30\n",
      "324/324 [==============================] - 50s 154ms/step - loss: 0.0590 - accuracy: 0.9786 - val_loss: 0.1553 - val_accuracy: 0.9534\n",
      "Epoch 16/30\n",
      "324/324 [==============================] - 49s 152ms/step - loss: 0.0597 - accuracy: 0.9789 - val_loss: 0.1403 - val_accuracy: 0.9542\n",
      "Epoch 17/30\n",
      "324/324 [==============================] - 48s 148ms/step - loss: 0.0589 - accuracy: 0.9795 - val_loss: 0.1634 - val_accuracy: 0.9397\n",
      "Epoch 18/30\n",
      "324/324 [==============================] - 48s 149ms/step - loss: 0.0545 - accuracy: 0.9811 - val_loss: 0.2076 - val_accuracy: 0.9322\n",
      "Epoch 19/30\n",
      "324/324 [==============================] - 49s 150ms/step - loss: 0.0557 - accuracy: 0.9782 - val_loss: 0.1460 - val_accuracy: 0.9565\n",
      "Epoch 20/30\n",
      "324/324 [==============================] - 49s 152ms/step - loss: 0.0550 - accuracy: 0.9805 - val_loss: 0.1602 - val_accuracy: 0.9490\n",
      "Epoch 21/30\n",
      "324/324 [==============================] - 49s 153ms/step - loss: 0.0659 - accuracy: 0.9765 - val_loss: 0.1328 - val_accuracy: 0.9571\n",
      "Epoch 22/30\n",
      "324/324 [==============================] - 49s 152ms/step - loss: 0.0587 - accuracy: 0.9779 - val_loss: 0.1783 - val_accuracy: 0.9505\n",
      "Epoch 23/30\n",
      "324/324 [==============================] - 45s 139ms/step - loss: 0.0546 - accuracy: 0.9813 - val_loss: 0.1370 - val_accuracy: 0.9548\n",
      "Epoch 24/30\n",
      "324/324 [==============================] - 39s 121ms/step - loss: 0.0607 - accuracy: 0.9782 - val_loss: 0.1624 - val_accuracy: 0.9487\n",
      "Epoch 25/30\n",
      "324/324 [==============================] - 39s 121ms/step - loss: 0.0518 - accuracy: 0.9814 - val_loss: 0.1618 - val_accuracy: 0.9551\n",
      "Epoch 26/30\n",
      "324/324 [==============================] - 39s 121ms/step - loss: 0.0555 - accuracy: 0.9811 - val_loss: 0.2023 - val_accuracy: 0.9397\n",
      "Epoch 27/30\n",
      "324/324 [==============================] - 39s 120ms/step - loss: 0.0562 - accuracy: 0.9800 - val_loss: 0.1658 - val_accuracy: 0.9479\n",
      "Epoch 28/30\n",
      "324/324 [==============================] - 38s 118ms/step - loss: 0.0538 - accuracy: 0.9810 - val_loss: 0.1414 - val_accuracy: 0.9548\n",
      "Epoch 29/30\n",
      "324/324 [==============================] - 38s 118ms/step - loss: 0.0562 - accuracy: 0.9802 - val_loss: 0.1493 - val_accuracy: 0.9554\n",
      "Epoch 30/30\n",
      "324/324 [==============================] - 38s 119ms/step - loss: 0.0580 - accuracy: 0.9785 - val_loss: 0.1960 - val_accuracy: 0.9412\n"
     ]
    }
   ],
   "source": [
    "# Part 3 - Training the CNN\n",
    "\n",
    "# Compiling the CNN\n",
    "\n",
    "# cnn.compile(optimizer = 'adam', loss = 'hinge', metrics = ['accuracy'])\n",
    "cnn.compile(optimizer='adam',loss='sparse_categorical_crossentropy', metrics = ['accuracy'])\n",
    "\n",
    "# Training the CNN on the Training set and evaluating it on the Test set\n",
    "r=cnn.fit(x = training_set, validation_data = test_set, epochs = 30)"
   ]
  },
  {
   "cell_type": "code",
   "execution_count": 16,
   "metadata": {},
   "outputs": [
    {
     "data": {
      "image/png": "[encoded data removed]",
      "text/plain": [
       "<Figure size 432x288 with 1 Axes>"
      ]
     },
     "metadata": {
      "needs_background": "light"
     },
     "output_type": "display_data"
    },
    {
     "data": {
      "image/png": "[encoded data removed]",
      "text/plain": [
       "<Figure size 432x288 with 1 Axes>"
      ]
     },
     "metadata": {
      "needs_background": "light"
     },
     "output_type": "display_data"
    },
    {
     "data": {
      "text/plain": [
       "<Figure size 432x288 with 0 Axes>"
      ]
     },
     "metadata": {},
     "output_type": "display_data"
    }
   ],
   "source": [
    "# plot the loss\n",
    "import matplotlib.pyplot as plt\n",
    "plt.plot(r.history['loss'], label='train loss')\n",
    "plt.plot(r.history['val_loss'], label='val loss')\n",
    "plt.legend()\n",
    "plt.show()\n",
    "plt.savefig('LossVal_loss')\n",
    "\n",
    "# plot the accuracy\n",
    "plt.plot(r.history['accuracy'], label='train acc')\n",
    "plt.plot(r.history['val_accuracy'], label='val acc')\n",
    "plt.legend()\n",
    "plt.show()\n",
    "plt.savefig('AccVal_acc')"
   ]
  },
  {
   "cell_type": "code",
   "execution_count": 11,
   "metadata": {},
   "outputs": [],
   "source": [
    "# save it as a h5 file\n",
    "\n",
    "\n",
    "from tensorflow.keras.models import load_model\n",
    "\n",
    "cnn.save('SvmAndCnn.h5')\n",
    "from tensorflow.keras.models import load_model\n",
    " \n",
    "# load model\n",
    "model = load_model('SvmAndCnn.h5')"
   ]
  },
  {
   "cell_type": "code",
   "execution_count": null,
   "metadata": {},
   "outputs": [],
   "source": [
    "'dataset/Covid19 Positive/Covid-142.png'\n",
    "'dataset/Covid19 Negative/Normal-2.png'"
   ]
  },
  {
   "cell_type": "code",
   "execution_count": 12,
   "metadata": {},
   "outputs": [
    {
     "name": "stdout",
     "output_type": "stream",
     "text": [
      "[[5.6885383e-03 9.9243659e-01 1.0980228e-03 7.7682320e-04]]\n"
     ]
    },
    {
     "data": {
      "text/plain": [
       "numpy.ndarray"
      ]
     },
     "execution_count": 12,
     "metadata": {},
     "output_type": "execute_result"
    }
   ],
   "source": [
    "import numpy as np\n",
    "from tensorflow.keras.preprocessing import image\n",
    "test_image = image.load_img('dataset/Covid19 Positive/Covid-142.png', target_size = (64,64))\n",
    "test_image = image.img_to_array(test_image)\n",
    "test_image=test_image/255\n",
    "test_image = np.expand_dims(test_image, axis = 0)\n",
    "result = cnn.predict(test_image)\n",
    "print(result)\n",
    "type(result)"
   ]
  },
  {
   "cell_type": "code",
   "execution_count": null,
   "metadata": {},
   "outputs": [],
   "source": [
    "\n"
   ]
  },
  {
   "cell_type": "code",
   "execution_count": 167,
   "metadata": {},
   "outputs": [
    {
     "name": "stdout",
     "output_type": "stream",
     "text": [
      "<class 'list'>\n"
     ]
    },
    {
     "data": {
      "text/plain": [
       "[[0.999968409538269,\n",
       "  3.164418012602255e-05,\n",
       "  3.817092038453421e-28,\n",
       "  1.5439812030050606e-28]]"
      ]
     },
     "execution_count": 167,
     "metadata": {},
     "output_type": "execute_result"
    }
   ],
   "source": [
    "# # Convert array to list\n",
    "# lis = result.tolist()\n",
    "# print(type(lis))\n",
    "\n"
   ]
  },
  {
   "cell_type": "code",
   "execution_count": 169,
   "metadata": {},
   "outputs": [],
   "source": [
    "# convert multi dimension list to a single list\n",
    "# flatList = [ item for elem in result for item in elem]"
   ]
  },
  {
   "cell_type": "code",
   "execution_count": 170,
   "metadata": {},
   "outputs": [
    {
     "data": {
      "text/plain": [
       "0.9999684"
      ]
     },
     "execution_count": 170,
     "metadata": {},
     "output_type": "execute_result"
    }
   ],
   "source": [
    "# flatList"
   ]
  },
  {
   "cell_type": "code",
   "execution_count": 156,
   "metadata": {},
   "outputs": [],
   "source": [
    "# new_numbers = [];\n",
    "# for n in flatList:\n",
    "#     new_numbers.append(int(n));\n",
    "# numbers = new_numbers;"
   ]
  },
  {
   "cell_type": "code",
   "execution_count": 157,
   "metadata": {},
   "outputs": [
    {
     "name": "stdout",
     "output_type": "stream",
     "text": [
      "0\n"
     ]
    }
   ],
   "source": [
    "# integers = numbers\n",
    "\n",
    "# strings = [str(integer) for integer in integers]\n",
    "# a_string = \"\".join(strings)\n",
    "# an_integer = int(a_string)\n",
    "\n",
    "# print(an_integer)"
   ]
  },
  {
   "cell_type": "code",
   "execution_count": null,
   "metadata": {},
   "outputs": [],
   "source": [
    "# if an_integer<0:\n",
    "#     print(\"normal\")\n",
    "# else:\n",
    "#     print(\"Covid\")"
   ]
  }
 ],
 "metadata": {
  "interpreter": {
   "hash": "5d87b42201e74ac320bc00dce267d44f5f134edfec9046f67f672f289707ff6a"
  },
  "kernelspec": {
   "display_name": "Python 3 (ipykernel)",
   "language": "python",
   "name": "python3"
  },
  "language_info": {
   "codemirror_mode": {
    "name": "ipython",
    "version": 3
   },
   "file_extension": ".py",
   "mimetype": "text/x-python",
   "name": "python",
   "nbconvert_exporter": "python",
   "pygments_lexer": "ipython3",
   "version": "3.7.9"
  }
 },
 "nbformat": 4,
 "nbformat_minor": 2
}
